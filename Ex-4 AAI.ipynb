{
  "nbformat": 4,
  "nbformat_minor": 0,
  "metadata": {
    "colab": {
      "provenance": []
    },
    "kernelspec": {
      "name": "python3",
      "display_name": "Python 3"
    },
    "language_info": {
      "name": "python"
    }
  },
  "cells": [
    {
      "cell_type": "code",
      "execution_count": 2,
      "metadata": {
        "id": "7K5ltZtMuFPi"
      },
      "outputs": [],
      "source": [
        "import numpy as np\n",
        "# Define the transition matrix\n",
        "transition_matrix = np.array([[0.7, 0.3],[0.4, 0.6]])\n",
        "# Define the emission matrix\n",
        "emission_matrix = np.array([[0.1, 0.9],[0.8, 0.2]])\n",
        "# Define the initial probabilities\n",
        "initial_probabilities = np.array([0.5, 0.5])\n",
        "# Define the observed sequence\n",
        "observed_sequence = np.array([1, 1, 1, 0,0, 1])"
      ]
    },
    {
      "cell_type": "code",
      "source": [
        "\n",
        "# Initialize the alpha matrix\n",
        "alpha = np.zeros((len (observed_sequence),len (initial_probabilities)))\n",
        "# Calculate the first row of the alpha matrix\n",
        "alpha[0, :] = initial_probabilities*emission_matrix[:, observed_sequence[0]]"
      ],
      "metadata": {
        "id": "FS_1zLdkvLkI"
      },
      "execution_count": 3,
      "outputs": []
    },
    {
      "cell_type": "code",
      "source": [
        "\n",
        "#Loop through the rest of the observed sequence and calculate the rest of the alpha matrix\n",
        "for t in range(1, len (observed_sequence)):\n",
        "  for j in range(len(initial_probabilities)):\n",
        "    alpha[t, j] = emission_matrix[j,observed_sequence [t]]*np.sum (alpha[t-1, :] *transition_matrix[:, j])"
      ],
      "metadata": {
        "id": "A-hy8QNwvjRn"
      },
      "execution_count": 6,
      "outputs": []
    },
    {
      "cell_type": "code",
      "source": [
        "\n",
        "# Calculate the probability of the observed sequence\n",
        "probability = np.sum (alpha[-1, :])\n",
        "# Print the probability of the observed sequence\n",
        "print(\"The probability of the observed sequence is:\", probability)\n",
        "# Find the most likely sequence of weather states given the observed sequence\n",
        "most_likely_sequence = [ ]\n",
        "for t in range (len (observed_sequence)) :\n",
        "  if alpha [t, 0] > alpha [t, 1]:\n",
        "    most_likely_sequence.append(\"sunny\")\n",
        "  else:\n",
        "    most_likely_sequence.append(\"rainy\")"
      ],
      "metadata": {
        "colab": {
          "base_uri": "https://localhost:8080/"
        },
        "id": "XmDLfFrgwGzP",
        "outputId": "89e6d2bd-6899-4ad5-b78d-2e8acd520d9a"
      },
      "execution_count": 7,
      "outputs": [
        {
          "output_type": "stream",
          "name": "stdout",
          "text": [
            "The probability of the observed sequence is: 0.018906881625\n"
          ]
        }
      ]
    },
    {
      "cell_type": "code",
      "source": [],
      "metadata": {
        "id": "BlIWb2pwxHXF"
      },
      "execution_count": 5,
      "outputs": []
    }
  ]
}